{
  "nbformat": 4,
  "nbformat_minor": 0,
  "metadata": {
    "colab": {
      "provenance": [],
      "gpuType": "T4"
    },
    "kernelspec": {
      "name": "python3",
      "display_name": "Python 3"
    },
    "language_info": {
      "name": "python"
    },
    "accelerator": "GPU"
  },
  "cells": [
    {
      "cell_type": "code",
      "execution_count": null,
      "metadata": {
        "id": "_EVqUbAKvXPF"
      },
      "outputs": [],
      "source": [
        "from google.colab import drive\n",
        "import tensorflow as tf\n",
        "from tensorflow.keras.preprocessing.image import ImageDataGenerator\n",
        "from tensorflow.keras.applications import MobileNetV2\n",
        "from tensorflow.keras import layers, models\n",
        "from sklearn.model_selection import train_test_split\n",
        "import os\n",
        "import numpy as np\n",
        "from tensorflow.keras.callbacks import ModelCheckpoint\n",
        "from sklearn.metrics import confusion_matrix\n",
        "import seaborn as sns\n",
        "import matplotlib.pyplot as plt\n",
        "\n",
        "import tensorflow as tf\n",
        "from tensorflow.keras.models import Model\n",
        "from tensorflow.keras.layers import Dense, GlobalAveragePooling2D\n",
        "from tensorflow.keras.applications import ResNet50\n",
        "from tensorflow.keras.callbacks import ModelCheckpoint\n",
        "\n"
      ]
    },
    {
      "cell_type": "code",
      "source": [
        "drive.mount('/content/drive')\n",
        "\n",
        "# Configuración de paths y parámetros\n",
        "img_height, img_width = 224, 224\n",
        "batch_size = 32\n",
        "num_classes = 6\n",
        "input_shape = (img_height, img_width, 3)\n",
        "\n",
        "# Aumentación de datos\n",
        "datagen = ImageDataGenerator(\n",
        "    rotation_range=40,\n",
        "    width_shift_range=0.2,\n",
        "    height_shift_range=0.2,\n",
        "    brightness_range=[0.5, 1.5],\n",
        "    shear_range=0.2,\n",
        "    zoom_range=0.2,\n",
        "    fill_mode='nearest',\n",
        "    validation_split=0.2  # Dividir 80% entrenamiento, 20% prueba\n",
        ")\n",
        "\n"
      ],
      "metadata": {
        "id": "E-bo5tbVvxqh",
        "colab": {
          "base_uri": "https://localhost:8080/"
        },
        "outputId": "29f978cf-ebd1-4ad8-a8a8-6d6f8b7d40c0"
      },
      "execution_count": null,
      "outputs": [
        {
          "output_type": "stream",
          "name": "stdout",
          "text": [
            "Drive already mounted at /content/drive; to attempt to forcibly remount, call drive.mount(\"/content/drive\", force_remount=True).\n"
          ]
        }
      ]
    },
    {
      "cell_type": "code",
      "source": [
        "# Directorio de tus imágenes organizadas en carpetas (una por cada clase de pH)\n",
        "data_dir = '/content/drive/MyDrive/ph modificdo'\n",
        "\n",
        "# Preparar generadores de imágenes para entrenamiento y validación\n",
        "train_generator = datagen.flow_from_directory(\n",
        "    data_dir,\n",
        "    target_size=(img_height, img_width),\n",
        "    batch_size=batch_size,\n",
        "    class_mode='categorical',\n",
        "    subset='training',\n",
        "    shuffle=True\n",
        ")\n",
        "\n",
        "validation_generator = datagen.flow_from_directory(\n",
        "    data_dir,\n",
        "    target_size=(img_height, img_width),\n",
        "    batch_size=batch_size,\n",
        "    class_mode='categorical',\n",
        "    subset='validation',\n",
        "    shuffle=False\n",
        ")\n",
        "\n",
        "\n"
      ],
      "metadata": {
        "id": "w_lJc80hv6HB",
        "colab": {
          "base_uri": "https://localhost:8080/"
        },
        "outputId": "c6cce09a-ac58-4456-e8a0-f3ade2d92299"
      },
      "execution_count": null,
      "outputs": [
        {
          "output_type": "stream",
          "name": "stdout",
          "text": [
            "Found 618 images belonging to 6 classes.\n",
            "Found 150 images belonging to 6 classes.\n"
          ]
        }
      ]
    },
    {
      "cell_type": "code",
      "source": [
        "# Cargar el modelo base ResNet50 sin la capa superior (la de clasificación original)\n",
        "base_model = ResNet50(weights='imagenet', include_top=False, input_shape=(224, 224, 3))\n",
        "\n",
        "# Congelar las capas de ResNet50 para preservar los pesos preentrenados\n",
        "base_model.trainable = False\n",
        "\n",
        "# Añadir nuevas capas para la clasificación de pH\n",
        "x = base_model.output\n",
        "x = GlobalAveragePooling2D()(x)  # Capa de promedio global\n",
        "x = Dense(1024, activation='relu')(x)  # Capa totalmente conectada\n",
        "output = Dense(num_classes, activation='softmax')(x)  # Capa de salida\n",
        "\n",
        "# Crear el modelo completo\n",
        "model = Model(inputs=base_model.input, outputs=output)\n"
      ],
      "metadata": {
        "id": "Fnxn1YTiyRNF"
      },
      "execution_count": null,
      "outputs": []
    },
    {
      "cell_type": "code",
      "source": [
        "# Compilar el modelo\n",
        "model.compile(optimizer='adam',  # Optimizador Adam\n",
        "              loss='categorical_crossentropy',  # Pérdida para clasificación categórica\n",
        "              metrics=['accuracy'])\n",
        "\n",
        "# Configuración de checkpoint para guardar el mejor modelo\n",
        "checkpoint = ModelCheckpoint('ph_classifier.keras', save_best_only=True, monitor='val_accuracy', mode='max')\n",
        "\n",
        "# Entrenar el modelo\n",
        "history = model.fit(\n",
        "    train_generator,\n",
        "    validation_data=validation_generator,\n",
        "    epochs=20,\n",
        "    callbacks=[checkpoint]\n",
        ")\n",
        "\n"
      ],
      "metadata": {
        "id": "il4G0jfmz36U",
        "colab": {
          "base_uri": "https://localhost:8080/"
        },
        "outputId": "858255b5-e9a3-4e70-9624-d753342c097e"
      },
      "execution_count": null,
      "outputs": [
        {
          "output_type": "stream",
          "name": "stdout",
          "text": [
            "Epoch 1/20\n"
          ]
        },
        {
          "output_type": "stream",
          "name": "stderr",
          "text": [
            "/usr/local/lib/python3.10/dist-packages/keras/src/trainers/data_adapters/py_dataset_adapter.py:121: UserWarning: Your `PyDataset` class should call `super().__init__(**kwargs)` in its constructor. `**kwargs` can include `workers`, `use_multiprocessing`, `max_queue_size`. Do not pass these arguments to `fit()`, as they will be ignored.\n",
            "  self._warn_if_super_not_called()\n"
          ]
        },
        {
          "output_type": "stream",
          "name": "stdout",
          "text": [
            "\u001b[1m20/20\u001b[0m \u001b[32m━━━━━━━━━━━━━━━━━━━━\u001b[0m\u001b[37m\u001b[0m \u001b[1m47s\u001b[0m 1s/step - accuracy: 0.2069 - loss: 4.7444 - val_accuracy: 0.4600 - val_loss: 1.4254\n",
            "Epoch 2/20\n",
            "\u001b[1m20/20\u001b[0m \u001b[32m━━━━━━━━━━━━━━━━━━━━\u001b[0m\u001b[37m\u001b[0m \u001b[1m24s\u001b[0m 848ms/step - accuracy: 0.4699 - loss: 1.4289 - val_accuracy: 0.5600 - val_loss: 1.2352\n",
            "Epoch 3/20\n",
            "\u001b[1m20/20\u001b[0m \u001b[32m━━━━━━━━━━━━━━━━━━━━\u001b[0m\u001b[37m\u001b[0m \u001b[1m24s\u001b[0m 837ms/step - accuracy: 0.5734 - loss: 1.2077 - val_accuracy: 0.7133 - val_loss: 0.9543\n",
            "Epoch 4/20\n",
            "\u001b[1m20/20\u001b[0m \u001b[32m━━━━━━━━━━━━━━━━━━━━\u001b[0m\u001b[37m\u001b[0m \u001b[1m41s\u001b[0m 864ms/step - accuracy: 0.6594 - loss: 0.9483 - val_accuracy: 0.8133 - val_loss: 0.6618\n",
            "Epoch 5/20\n",
            "\u001b[1m20/20\u001b[0m \u001b[32m━━━━━━━━━━━━━━━━━━━━\u001b[0m\u001b[37m\u001b[0m \u001b[1m40s\u001b[0m 768ms/step - accuracy: 0.7094 - loss: 0.8375 - val_accuracy: 0.7200 - val_loss: 0.7763\n",
            "Epoch 6/20\n",
            "\u001b[1m20/20\u001b[0m \u001b[32m━━━━━━━━━━━━━━━━━━━━\u001b[0m\u001b[37m\u001b[0m \u001b[1m47s\u001b[0m 1s/step - accuracy: 0.6674 - loss: 0.8322 - val_accuracy: 0.8467 - val_loss: 0.5487\n",
            "Epoch 7/20\n",
            "\u001b[1m20/20\u001b[0m \u001b[32m━━━━━━━━━━━━━━━━━━━━\u001b[0m\u001b[37m\u001b[0m \u001b[1m36s\u001b[0m 868ms/step - accuracy: 0.7866 - loss: 0.6422 - val_accuracy: 0.8800 - val_loss: 0.4162\n",
            "Epoch 8/20\n",
            "\u001b[1m20/20\u001b[0m \u001b[32m━━━━━━━━━━━━━━━━━━━━\u001b[0m\u001b[37m\u001b[0m \u001b[1m41s\u001b[0m 779ms/step - accuracy: 0.8391 - loss: 0.5242 - val_accuracy: 0.8533 - val_loss: 0.3781\n",
            "Epoch 9/20\n",
            "\u001b[1m20/20\u001b[0m \u001b[32m━━━━━━━━━━━━━━━━━━━━\u001b[0m\u001b[37m\u001b[0m \u001b[1m21s\u001b[0m 774ms/step - accuracy: 0.8106 - loss: 0.5355 - val_accuracy: 0.7800 - val_loss: 0.5447\n",
            "Epoch 10/20\n",
            "\u001b[1m20/20\u001b[0m \u001b[32m━━━━━━━━━━━━━━━━━━━━\u001b[0m\u001b[37m\u001b[0m \u001b[1m22s\u001b[0m 803ms/step - accuracy: 0.7759 - loss: 0.5745 - val_accuracy: 0.8133 - val_loss: 0.5028\n",
            "Epoch 11/20\n",
            "\u001b[1m20/20\u001b[0m \u001b[32m━━━━━━━━━━━━━━━━━━━━\u001b[0m\u001b[37m\u001b[0m \u001b[1m22s\u001b[0m 821ms/step - accuracy: 0.8272 - loss: 0.4819 - val_accuracy: 0.9400 - val_loss: 0.3007\n",
            "Epoch 12/20\n",
            "\u001b[1m20/20\u001b[0m \u001b[32m━━━━━━━━━━━━━━━━━━━━\u001b[0m\u001b[37m\u001b[0m \u001b[1m40s\u001b[0m 762ms/step - accuracy: 0.8548 - loss: 0.4358 - val_accuracy: 0.9067 - val_loss: 0.3103\n",
            "Epoch 13/20\n",
            "\u001b[1m20/20\u001b[0m \u001b[32m━━━━━━━━━━━━━━━━━━━━\u001b[0m\u001b[37m\u001b[0m \u001b[1m41s\u001b[0m 812ms/step - accuracy: 0.8106 - loss: 0.5084 - val_accuracy: 0.9200 - val_loss: 0.3100\n",
            "Epoch 14/20\n",
            "\u001b[1m20/20\u001b[0m \u001b[32m━━━━━━━━━━━━━━━━━━━━\u001b[0m\u001b[37m\u001b[0m \u001b[1m24s\u001b[0m 853ms/step - accuracy: 0.8344 - loss: 0.4343 - val_accuracy: 0.9267 - val_loss: 0.2396\n",
            "Epoch 15/20\n",
            "\u001b[1m20/20\u001b[0m \u001b[32m━━━━━━━━━━━━━━━━━━━━\u001b[0m\u001b[37m\u001b[0m \u001b[1m39s\u001b[0m 794ms/step - accuracy: 0.8733 - loss: 0.3954 - val_accuracy: 0.9200 - val_loss: 0.2806\n",
            "Epoch 16/20\n",
            "\u001b[1m20/20\u001b[0m \u001b[32m━━━━━━━━━━━━━━━━━━━━\u001b[0m\u001b[37m\u001b[0m \u001b[1m21s\u001b[0m 816ms/step - accuracy: 0.8847 - loss: 0.3407 - val_accuracy: 0.9400 - val_loss: 0.2482\n",
            "Epoch 17/20\n",
            "\u001b[1m20/20\u001b[0m \u001b[32m━━━━━━━━━━━━━━━━━━━━\u001b[0m\u001b[37m\u001b[0m \u001b[1m22s\u001b[0m 816ms/step - accuracy: 0.8583 - loss: 0.4115 - val_accuracy: 0.9467 - val_loss: 0.2076\n",
            "Epoch 18/20\n",
            "\u001b[1m20/20\u001b[0m \u001b[32m━━━━━━━━━━━━━━━━━━━━\u001b[0m\u001b[37m\u001b[0m \u001b[1m39s\u001b[0m 802ms/step - accuracy: 0.8896 - loss: 0.3394 - val_accuracy: 0.8533 - val_loss: 0.3430\n",
            "Epoch 19/20\n",
            "\u001b[1m20/20\u001b[0m \u001b[32m━━━━━━━━━━━━━━━━━━━━\u001b[0m\u001b[37m\u001b[0m \u001b[1m42s\u001b[0m 810ms/step - accuracy: 0.8810 - loss: 0.3470 - val_accuracy: 0.9667 - val_loss: 0.1900\n",
            "Epoch 20/20\n",
            "\u001b[1m20/20\u001b[0m \u001b[32m━━━━━━━━━━━━━━━━━━━━\u001b[0m\u001b[37m\u001b[0m \u001b[1m41s\u001b[0m 829ms/step - accuracy: 0.9074 - loss: 0.2906 - val_accuracy: 0.9533 - val_loss: 0.2131\n"
          ]
        }
      ]
    },
    {
      "cell_type": "code",
      "source": [
        "# Guardar el modelo final\n",
        "model.save(\"ph_classifierv1.keras\")\n",
        "\n",
        "print(\"Entrenamiento completado y modelo guardado como 'ph_classifierv1.keras'\")"
      ],
      "metadata": {
        "colab": {
          "base_uri": "https://localhost:8080/"
        },
        "id": "W8W5JmJkTZ8E",
        "outputId": "df29e37a-7fbc-4027-f375-29b51dd3f1f5"
      },
      "execution_count": null,
      "outputs": [
        {
          "output_type": "stream",
          "name": "stdout",
          "text": [
            "Entrenamiento completado y modelo guardado como 'ph_classifierv1.keras'\n"
          ]
        }
      ]
    },
    {
      "cell_type": "code",
      "source": [
        "import os\n",
        "print(os.getcwd())  # Muestra el directorio de trabajo actual"
      ],
      "metadata": {
        "colab": {
          "base_uri": "https://localhost:8080/"
        },
        "id": "sdOy8mKV4li6",
        "outputId": "f9ac2e2b-2dc8-45bd-8993-c017b16431ed"
      },
      "execution_count": null,
      "outputs": [
        {
          "output_type": "stream",
          "name": "stdout",
          "text": [
            "/content\n"
          ]
        }
      ]
    },
    {
      "cell_type": "code",
      "source": [
        "# Cargar el modelo guardado\n",
        "model = tf.keras.models.load_model(\"/content/ph_classifier.keras\")\n",
        "\n",
        "# Obtener las etiquetas verdaderas del generador de validación\n",
        "val_labels = validation_generator.classes\n",
        "class_names = list(validation_generator.class_indices.keys())  # Nombres de las clases (niveles de pH)\n",
        "\n",
        "# Generar predicciones en el conjunto de validación\n",
        "predictions = model.predict(validation_generator)\n",
        "predicted_classes = np.argmax(predictions, axis=1)\n",
        "\n",
        "# Crear la matriz de confusión\n",
        "conf_matrix = confusion_matrix(val_labels, predicted_classes)\n",
        "\n",
        "# Graficar la matriz de confusión\n",
        "plt.figure(figsize=(8, 6))\n",
        "sns.heatmap(conf_matrix, annot=True, fmt=\"d\", cmap=\"Blues\",\n",
        "            xticklabels=class_names, yticklabels=class_names)\n",
        "plt.xlabel(\"Predicted pH Levels\")\n",
        "plt.ylabel(\"True pH Levels\")\n",
        "plt.title(\"Confusion Matrix for pH Classifier\")\n",
        "plt.show()\n"
      ],
      "metadata": {
        "id": "g8y2iPH90g2C",
        "colab": {
          "base_uri": "https://localhost:8080/",
          "height": 583
        },
        "outputId": "b1f82b05-5e0f-4d69-9b4a-48cf1d4f5401"
      },
      "execution_count": null,
      "outputs": [
        {
          "output_type": "stream",
          "name": "stdout",
          "text": [
            "\u001b[1m5/5\u001b[0m \u001b[32m━━━━━━━━━━━━━━━━━━━━\u001b[0m\u001b[37m\u001b[0m \u001b[1m10s\u001b[0m 1s/step\n"
          ]
        },
        {
          "output_type": "display_data",
          "data": {
            "text/plain": [
              "<Figure size 800x600 with 2 Axes>"
            ],
            "image/png": "[encoded data removed]"
          },
          "metadata": {}
        }
      ]
    }
  ]
}